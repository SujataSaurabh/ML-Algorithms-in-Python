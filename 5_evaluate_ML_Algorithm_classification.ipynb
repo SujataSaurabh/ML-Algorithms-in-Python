{
 "cells": [
  {
   "cell_type": "markdown",
   "metadata": {},
   "source": [
    "Here we are evaluating ML algorithms for a classification problem:\n",
    "Classification problems are evaluated using following metrics- \n",
    "1. Classification Accuracy-  \n",
    "    number of correct predictions made as a ratio of all predictions made.Suitable only when there are equal number of observations in each class (which is rarely the case) and that all predictions and prediction errors are equally important. \n",
    "2. Logarithmic loss- \n",
    "    metric for evaluating the preductions of probabilities of membership to a given class. \n",
    "3. Area Under ROC Curve-  \n",
    "    metric for binary classification problems. An area of 1 represnets a model that made all predictions perfectly. An area of 0.5 means a model is as good as a random. ROC can be broken down in to sensitivity & specificity.  \n",
    "    A binary classification is problem is really a trade-off between sensitvity & specificity. Sensitivity is the true positive rate call recall. IT is the number of instances from the positive (first) class that actually predicted correctly. Specificity is also called the true negative rate. It is the number of in stances from the negative (second) \n",
    "    class that were actually predicted correctly.\n",
    "4. Confusion Matrix-  \n",
    "    It presnets the accuracy of a model with two or more classes. \n",
    "5. Classification report-  \n",
    "    scikit-learn library provide a convenience report when working on classification problems to give a quick idea of the accuracy of a model usnig a number of measures. The classification_report() function display the precision, recall, F1 score, and support for each class.\n",
    "    "
   ]
  },
  {
   "cell_type": "code",
   "execution_count": 1,
   "metadata": {},
   "outputs": [],
   "source": [
    "# load libraries \n",
    "from pandas import read_csv\n",
    "from sklearn.model_selection import KFold, cross_val_score,train_test_split\n",
    "from sklearn.linear_model import LogisticRegression\n",
    "from sklearn.metrics import confusion_matrix, classification_report"
   ]
  },
  {
   "cell_type": "code",
   "execution_count": 2,
   "metadata": {},
   "outputs": [],
   "source": [
    "# load data\n",
    "file = '../data/pima-indians-diabetes.data.csv'\n",
    "names = ['preg', 'plas', 'pres', 'skin', 'test', 'mass', 'pedi', 'age', 'class'] \n",
    "df = read_csv(file, names= names)\n",
    "array = df.values"
   ]
  },
  {
   "cell_type": "code",
   "execution_count": 3,
   "metadata": {},
   "outputs": [
    {
     "name": "stdout",
     "output_type": "stream",
     "text": [
      "-- Classification Accuracy --\n",
      "Accuracy: 0.772 (0.050)\n"
     ]
    }
   ],
   "source": [
    "X = array[:,0:8]\n",
    "Y = array[:,8]\n",
    "print(\"-- Classification Accuracy --\")\n",
    "kfold = KFold(n_splits=10, random_state=7, shuffle=True)\n",
    "model = LogisticRegression(solver='lbfgs', max_iter=1000)\n",
    "scoring= 'accuracy'\n",
    "results= cross_val_score(model, X, Y, cv=kfold, scoring=scoring)\n",
    "print(\"Accuracy: %.3f (%.3f)\" %(results.mean(), results.std()))\n"
   ]
  },
  {
   "cell_type": "code",
   "execution_count": 4,
   "metadata": {},
   "outputs": [
    {
     "name": "stdout",
     "output_type": "stream",
     "text": [
      "-- Logarithmic Loss -- \n",
      "Logloss -0.485 (0.057)\n"
     ]
    }
   ],
   "source": [
    "print(\"-- Logarithmic Loss -- \")\n",
    "scoring = 'neg_log_loss'\n",
    "results = cross_val_score(model, X, Y, cv = kfold, scoring=scoring)\n",
    "print(\"Logloss %.3f (%.3f)\" % (results.mean(), results.std()))\n"
   ]
  },
  {
   "cell_type": "code",
   "execution_count": 5,
   "metadata": {},
   "outputs": [
    {
     "name": "stdout",
     "output_type": "stream",
     "text": [
      "-- Cross validation classification ROC AUC -- \n",
      "AUC: 0.829 (0.047)\n"
     ]
    }
   ],
   "source": [
    "print(\"-- Cross validation classification ROC AUC -- \")\n",
    "scoring = 'roc_auc'\n",
    "results = cross_val_score(model, X, Y, cv = kfold, scoring=scoring)\n",
    "# AUC is relatively close to 1 & greater than 0.5, suggesting some skill in the predictions\n",
    "print(\"AUC: %.3f (%.3f)\" %(results.mean(), results.std()))"
   ]
  },
  {
   "cell_type": "code",
   "execution_count": 6,
   "metadata": {},
   "outputs": [
    {
     "name": "stdout",
     "output_type": "stream",
     "text": [
      "-- Confusion matrix -- \n",
      "[[142  20]\n",
      " [ 34  58]]\n"
     ]
    }
   ],
   "source": [
    "print(\"-- Confusion matrix -- \")\n",
    "test_size= 0.33\n",
    "seed= 7\n",
    "X_train, X_test, Y_train, Y_test= train_test_split(X,Y, test_size=test_size, random_state=seed)\n",
    "model = LogisticRegression(solver='lbfgs', max_iter=1000)\n",
    "model.fit(X_train, Y_train)\n",
    "predicted = model.predict(X_test)\n",
    "matrix = confusion_matrix(Y_test, predicted)\n",
    "print(matrix)"
   ]
  },
  {
   "cell_type": "code",
   "execution_count": 7,
   "metadata": {},
   "outputs": [
    {
     "name": "stdout",
     "output_type": "stream",
     "text": [
      "-- Classification report from sklearn --\n",
      "              precision    recall  f1-score   support\n",
      "\n",
      "         0.0       0.81      0.88      0.84       162\n",
      "         1.0       0.74      0.63      0.68        92\n",
      "\n",
      "    accuracy                           0.79       254\n",
      "   macro avg       0.78      0.75      0.76       254\n",
      "weighted avg       0.78      0.79      0.78       254\n",
      "\n"
     ]
    }
   ],
   "source": [
    "print(\"-- Classification report from sklearn --\")\n",
    "report = classification_report(Y_test, predicted)\n",
    "print(report)\n"
   ]
  }
 ],
 "metadata": {
  "kernelspec": {
   "display_name": "venv",
   "language": "python",
   "name": "python3"
  },
  "language_info": {
   "codemirror_mode": {
    "name": "ipython",
    "version": 3
   },
   "file_extension": ".py",
   "mimetype": "text/x-python",
   "name": "python",
   "nbconvert_exporter": "python",
   "pygments_lexer": "ipython3",
   "version": "3.9.6"
  }
 },
 "nbformat": 4,
 "nbformat_minor": 2
}
