{
 "cells": [
  {
   "cell_type": "markdown",
   "metadata": {},
   "source": [
    "ML Algorithms for Regression are evaluated using following characteristics:  \n",
    "1. Mean Absolute Error = is the sum of the absolute differences between predictions and actual values \n",
    "2. Mean Squared Error = provides the gross idea of the magnitude of error. Taking the square root of the mean squared error \n",
    "                        converts the unit back to the original units of the output variable and can be meaningful for description  \n",
    "                        and presentation. This is called RMSE. \n",
    "3. r_square = provides an indication of the goodness of fit of a set of predictions to the actual values. It is also  \n",
    "              called the coefficient of determination. The value is between 0 and 1 for no-fit and perfect-fit respectively. "
   ]
  },
  {
   "cell_type": "code",
   "execution_count": 11,
   "metadata": {},
   "outputs": [],
   "source": [
    "from pandas import read_csv\n",
    "from sklearn.model_selection import KFold, cross_val_score\n",
    "from sklearn.linear_model import LinearRegression\n"
   ]
  },
  {
   "cell_type": "code",
   "execution_count": 12,
   "metadata": {},
   "outputs": [],
   "source": [
    "# load data\n",
    "file = '../data/housing.csv'\n",
    "names = ['CRIM', 'ZN', 'INDUS', 'CHAS', 'NOX', 'RM', 'AGE', 'DIS', 'RAD', 'TAX', 'PTRATIO',\\\n",
    "            'B', 'LSTAT', 'MEDV']\n",
    "df = read_csv(file, sep='\\s+', names= names)\n",
    "array = df.values\n",
    "X = array[:,0:13]\n",
    "Y = array[:,13]"
   ]
  },
  {
   "cell_type": "code",
   "execution_count": 13,
   "metadata": {},
   "outputs": [
    {
     "name": "stdout",
     "output_type": "stream",
     "text": [
      " --  mean absolute error --\n",
      "MAE: -3.387 (0.667)\n"
     ]
    }
   ],
   "source": [
    "print(\" --  mean absolute error --\")\n",
    "kfold = KFold(n_splits=10, random_state=7, shuffle=True)\n",
    "model = LinearRegression()\n",
    "scoring = 'neg_mean_absolute_error'\n",
    "results = cross_val_score(model, X, Y, cv=kfold, scoring=scoring) \n",
    "print(\"MAE: %.3f (%.3f)\" % (results.mean(), results.std()))"
   ]
  },
  {
   "cell_type": "code",
   "execution_count": 14,
   "metadata": {},
   "outputs": [
    {
     "name": "stdout",
     "output_type": "stream",
     "text": [
      " --  mean squared error -- \n",
      "MSE: -23.747 (11.143)\n"
     ]
    }
   ],
   "source": [
    "print(\" --  mean squared error -- \")\n",
    "scoring= 'neg_mean_squared_error'\n",
    "results = cross_val_score(model, X, Y, cv=kfold, scoring=scoring)\n",
    "print(\"MSE: %.3f (%.3f)\" % (results.mean(), results.std()))\n"
   ]
  },
  {
   "cell_type": "code",
   "execution_count": 15,
   "metadata": {},
   "outputs": [
    {
     "name": "stdout",
     "output_type": "stream",
     "text": [
      "-- R^2 --\n",
      "R^2: 0.718 (0.099)\n"
     ]
    }
   ],
   "source": [
    "print(\"-- R^2 --\")\n",
    "scoring='r2'\n",
    "results = cross_val_score(model, X, Y, cv=kfold, scoring=scoring)\n",
    "print(\"R^2: %.3f (%.3f)\" %(results.mean(), results.std()))"
   ]
  }
 ],
 "metadata": {
  "kernelspec": {
   "display_name": "venv",
   "language": "python",
   "name": "python3"
  },
  "language_info": {
   "codemirror_mode": {
    "name": "ipython",
    "version": 3
   },
   "file_extension": ".py",
   "mimetype": "text/x-python",
   "name": "python",
   "nbconvert_exporter": "python",
   "pygments_lexer": "ipython3",
   "version": "3.9.6"
  }
 },
 "nbformat": 4,
 "nbformat_minor": 2
}
